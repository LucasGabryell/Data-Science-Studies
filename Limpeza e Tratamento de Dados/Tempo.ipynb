{
  "nbformat": 4,
  "nbformat_minor": 0,
  "metadata": {
    "colab": {
      "name": "Untitled0.ipynb",
      "provenance": []
    },
    "kernelspec": {
      "name": "python3",
      "display_name": "Python 3"
    },
    "language_info": {
      "name": "python"
    }
  },
  "cells": [
    {
      "cell_type": "markdown",
      "source": [
        "# Importando Bibliotecas"
      ],
      "metadata": {
        "id": "6CAlw4Zd97pa"
      }
    },
    {
      "cell_type": "code",
      "source": [
        "import pandas as pd\n",
        "import seaborn as srn\n",
        "import statistics as sts"
      ],
      "metadata": {
        "id": "sJJMZyNT-Dad"
      },
      "execution_count": null,
      "outputs": []
    },
    {
      "cell_type": "markdown",
      "source": [
        "# Importando Dados"
      ],
      "metadata": {
        "id": "arqGltrg-HIQ"
      }
    },
    {
      "cell_type": "code",
      "source": [
        "dataset = pd.read_csv(\"tempo.csv\", sep=\";\")\n",
        "dataset.head()"
      ],
      "metadata": {
        "id": "nPXTyqTh-Ltt"
      },
      "execution_count": null,
      "outputs": []
    },
    {
      "cell_type": "markdown",
      "source": [
        "# Vizualizando Dados\n"
      ],
      "metadata": {
        "id": "yQxQ6Wur-Ogy"
      }
    },
    {
      "cell_type": "code",
      "source": [
        "agrupadoApar = dataset.groupby(['Aparencia']).size()\n",
        "print(agrupadoApar)\n",
        "\n",
        "agrupadoTemp = dataset.groupby(['Temperatura']).size()\n",
        "print(agrupadoTemp)\n",
        "\n",
        "agrupadoUmid = dataset.groupby(['Umidade']).size()\n",
        "print(agrupadoUmid)\n",
        "\n",
        "agrupadoVento = dataset.groupby(['Vento']).size()\n",
        "print(agrupadoVento)\n",
        "\n",
        "agrupadoJogar = dataset.groupby(['Jogar']).size()\n",
        "print(agrupadoJogar)"
      ],
      "metadata": {
        "id": "IFW-cJ9--aRZ"
      },
      "execution_count": null,
      "outputs": []
    },
    {
      "cell_type": "markdown",
      "source": [
        "# Temperatura"
      ],
      "metadata": {
        "id": "syL0fsgQ-e2C"
      }
    },
    {
      "cell_type": "code",
      "source": [
        "#temperatura\n",
        "dataset['Temperatura'].describe()\n",
        "srn.boxplot(dataset['Temperatura']).set_title('Temperatura')\n",
        "srn.boxplot(dataset['Temperatura']).set_title('Temperatura')"
      ],
      "metadata": {
        "id": "jXiIREkm-h41"
      },
      "execution_count": null,
      "outputs": []
    },
    {
      "cell_type": "markdown",
      "source": [
        "# Umidade"
      ],
      "metadata": {
        "id": "VRxpfw38-moQ"
      }
    },
    {
      "cell_type": "code",
      "source": [
        "dataset['Umidade'].describe()\n",
        "srn.boxplot(dataset['Umidade']).set_title('Umidade')\n",
        "srn.boxplot(dataset['Umidade']).set_title('Umidade')"
      ],
      "metadata": {
        "id": "XPrraxWn-osb"
      },
      "execution_count": null,
      "outputs": []
    },
    {
      "cell_type": "markdown",
      "source": [
        "# Aparencia valor invalido"
      ],
      "metadata": {
        "id": "7mjlLnZ4-rJc"
      }
    },
    {
      "cell_type": "code",
      "source": [
        "agrupado = dataset.groupby(['Aparencia']).size()\n",
        "agrupado\n",
        "dataset.loc[dataset['Aparencia'] == 'menos', 'Aparencia'] = \"Sol\"\n",
        "agrupado = dataset.groupby(['Aparencia']).size()\n",
        "agrupado"
      ],
      "metadata": {
        "id": "Bt2zCFdb-vD5"
      },
      "execution_count": null,
      "outputs": []
    },
    {
      "cell_type": "markdown",
      "source": [
        "# Temperatura valor invalido"
      ],
      "metadata": {
        "id": "c6vkfkZE-yxh"
      }
    },
    {
      "cell_type": "code",
      "source": [
        "agrupado = dataset.groupby(['Temperatura']).size()\n",
        "agrupado\n",
        "dataset.loc[dataset['Temperatura'] < -100 or dataset['Temperatura'] > 100]\n",
        "#substituir valores\n",
        "mediana = sts.median(dataset['Temperatura'])\n",
        "mediana\n",
        "dataset.loc[dataset['Temperatura'] < -100 or dataset['Temperatura'] > 100, 'Temperatura'] = mediana"
      ],
      "metadata": {
        "id": "yRP9UWI9-1Eh"
      },
      "execution_count": null,
      "outputs": []
    },
    {
      "cell_type": "markdown",
      "source": [
        "# Umidade valores invalidos"
      ],
      "metadata": {
        "id": "pLZt3rD7-69e"
      }
    },
    {
      "cell_type": "code",
      "source": [
        "agrupado = dataset.groupby(['Umidade']).size()\n",
        "print(agrupado)\n",
        "dataset['Umidade'].isnull().sum()\n",
        "mediana = sts.median(dataset['Umidade'])\n",
        "print(mediana)\n",
        "#Alterando valores nulos para a mediana\n",
        "dataset['Umidade'].fillna(mediana, inplace=True)\n",
        "#verificando se ainda restam valores nulos\n",
        "dataset['Umidade'].isnull().sum()\n"
      ],
      "metadata": {
        "id": "wuWJGXgr-8bv"
      },
      "execution_count": null,
      "outputs": []
    },
    {
      "cell_type": "markdown",
      "source": [
        "# Para valores acima do normal (Umidade)"
      ],
      "metadata": {
        "id": "6rBFL8cT_D3f"
      }
    },
    {
      "cell_type": "code",
      "source": [
        "#vizualizar valores\n",
        "dataset.loc[(dataset['Umidade'] <  0 )  | ( dataset['Umidade'] >  100) ]\n",
        "#atualiza valores com mediana\n",
        "dataset.loc[(dataset['Umidade'] <  0 )  | ( dataset['Umidade'] >  100), 'Umidade'] = mediana\n",
        "#visuliza valores para verificar se foram mudados\n",
        "dataset.loc[(dataset['Umidade'] <  0 )  | ( dataset['Umidade'] >  100) ]"
      ],
      "metadata": {
        "id": "ZjhKqn63_IXk"
      },
      "execution_count": null,
      "outputs": []
    },
    {
      "cell_type": "markdown",
      "source": [
        "# Ventos valores invalidos"
      ],
      "metadata": {
        "id": "DCu2076a_NwZ"
      }
    },
    {
      "cell_type": "code",
      "source": [
        "agrupado = dataset.groupby(['Vento']).size()\n",
        "print(agrupado)\n",
        "#verificando total de valores nulos\n",
        "dataset['Vento'].isnull().sum()\n",
        "#preenchendo valores nulos com 'FALSOS'\n",
        "dataset['Vento'].fillna('FALSO', inplace=True)\n",
        "#verificando se ainda tem valores nulos\n",
        "dataset['Vento'].isnull().sum()"
      ],
      "metadata": {
        "id": "H7U1bjL7_P2o"
      },
      "execution_count": null,
      "outputs": []
    }
  ]
}