{
 "nbformat": 4,
 "nbformat_minor": 0,
 "metadata": {
  "colab": {
   "name": "Graficos_Vizualizacao_Dashboards.ipynb",
   "provenance": []
  },
  "kernelspec": {
   "name": "python3",
   "display_name": "Python 3"
  },
  "language_info": {
   "name": "python"
  }
 },
 "cells": [
  {
   "cell_type": "markdown",
   "source": [
    "#Importando Bibliotecas"
   ],
   "metadata": {
    "id": "SfZvftBnYkv9"
   }
  },
  {
   "cell_type": "code",
   "source": [
    "#Importando bibliotecas\n",
    "import pandas as pd\n",
    "import numpy as np\n",
    "import matplotlib.pyplot as plt\n",
    "import seaborn as srn"
   ],
   "metadata": {
    "id": "0d14xvIrYrl8"
   },
   "execution_count": 34,
   "outputs": []
  },
  {
   "cell_type": "markdown",
   "source": [
    "#Histograma"
   ],
   "metadata": {
    "id": "7qZHGisDVwDJ"
   }
  },
  {
   "cell_type": "code",
   "source": [
    "#Carregando dados\n",
    "dados = pd.read_csv('trees.csv')\n",
    "dados.shape"
   ],
   "metadata": {
    "id": "yZjpmh7KWCL3"
   },
   "execution_count": null,
   "outputs": []
  },
  {
   "cell_type": "code",
   "source": [
    "#dados\n",
    "dados.head()"
   ],
   "metadata": {
    "id": "fQQNOYJGWdBK"
   },
   "execution_count": null,
   "outputs": []
  },
  {
   "cell_type": "code",
   "source": [
    "#Criação do histograma, considerando somente o segundo atritbuto da base de dados e com duas divisões (bins)\n",
    "#A vartável armazena as faixas de valores de Height\n",
    "h = np.histogram(dados.iloc[:,1], bins = 6)\n",
    "h"
   ],
   "metadata": {
    "colab": {
     "base_uri": "https://localhost:8080/"
    },
    "id": "rJCWhEoHWogS",
    "outputId": "7c4b0a62-dcee-45a5-c27b-1cb4d88d096c"
   },
   "execution_count": null,
   "outputs": [
    {
     "output_type": "execute_result",
     "data": {
      "text/plain": [
       "(array([4, 2, 5, 7, 9, 4]), array([63., 67., 71., 75., 79., 83., 87.]))"
      ]
     },
     "metadata": {},
     "execution_count": 6
    }
   ]
  },
  {
   "cell_type": "code",
   "source": [
    "#Vizualização do histograma com 6 divisões (bins)\n",
    "plt.hist(dados.iloc[:,1], bins = 8)\n",
    "plt.title(\"Árvores\")\n",
    "plt.ylabel(\"Frequência\")\n",
    "plt.xlabel(\"Altura\")"
   ],
   "metadata": {
    "colab": {
     "base_uri": "https://localhost:8080/",
     "height": 312
    },
    "id": "IBQAuFCiXNSy",
    "outputId": "c65b7edc-b96d-4c04-f86a-d79aac578217"
   },
   "execution_count": null,
   "outputs": [
    {
     "output_type": "execute_result",
     "data": {
      "text/plain": [
       "Text(0.5, 0, 'Altura')"
      ]
     },
     "metadata": {},
     "execution_count": 10
    },
    {
     "output_type": "display_data",
     "data": {
      "text/plain": [
       "<Figure size 432x288 with 1 Axes>"
      ],
      "image/png": "[encoded data removed]"
     },
     "metadata": {
      "needs_background": "light"
     }
    }
   ]
  },
  {
   "cell_type": "markdown",
   "source": [
    "#Gráficos de Densidade"
   ],
   "metadata": {
    "id": "Li9vUe2BYOw3"
   }
  },
  {
   "cell_type": "code",
   "source": [
    "#Carregando dados\n",
    "dados = pd.read_csv('trees.csv')\n",
    "dados.head()"
   ],
   "metadata": {
    "id": "V1_ABvAnYW0D"
   },
   "execution_count": null,
   "outputs": []
  },
  {
   "cell_type": "code",
   "source": [
    "#Histograma com 10 divisões (bins) e somente para o primeiro atributo dos dados\n",
    "plt.hist(dados.iloc[:,1], bins = 6)"
   ],
   "metadata": {
    "id": "9ymm4KyFYyZg"
   },
   "execution_count": null,
   "outputs": []
  },
  {
   "cell_type": "code",
   "source": [
    "#Histograma com a linha de distribuição de frequência, com 6 divisões (bins)\n",
    "#kde = linha de densidade\n",
    "srn.distplot(dados.iloc[:,1], hist=True, kde=False, bins=6, color='blue',\n",
    "            hist_kws={'edgecolor':'black'})"
   ],
   "metadata": {
    "colab": {
     "base_uri": "https://localhost:8080/",
     "height": 351
    },
    "id": "GeFx9HQ7ZAwZ",
    "outputId": "bfd46c10-20fd-4d23-edee-fe0d938a3ab6"
   },
   "execution_count": null,
   "outputs": [
    {
     "output_type": "stream",
     "name": "stderr",
     "text": [
      "/usr/local/lib/python3.7/dist-packages/seaborn/distributions.py:2619: FutureWarning: `distplot` is a deprecated function and will be removed in a future version. Please adapt your code to use either `displot` (a figure-level function with similar flexibility) or `histplot` (an axes-level function for histograms).\n",
      "  warnings.warn(msg, FutureWarning)\n"
     ]
    },
    {
     "output_type": "execute_result",
     "data": {
      "text/plain": [
       "<matplotlib.axes._subplots.AxesSubplot at 0x7f10c80464d0>"
      ]
     },
     "metadata": {},
     "execution_count": 17
    },
    {
     "output_type": "display_data",
     "data": {
      "text/plain": [
       "<Figure size 432x288 with 1 Axes>"
      ],
      "image/png": "[encoded data removed]"
     },
     "metadata": {
      "needs_background": "light"
     }
    }
   ]
  },
  {
   "cell_type": "code",
   "source": [
    "#densidade\n",
    "srn.distplot(dados.iloc[:,1], hist=False, kde=True, bins=6, color='blue',\n",
    "            hist_kws={'edgecolor':'black'})"
   ],
   "metadata": {
    "colab": {
     "base_uri": "https://localhost:8080/",
     "height": 351
    },
    "id": "3pMhTxzIaDJt",
    "outputId": "ddba2cea-ffa6-43e6-bf2f-1b927b19d613"
   },
   "execution_count": null,
   "outputs": [
    {
     "output_type": "stream",
     "name": "stderr",
     "text": [
      "/usr/local/lib/python3.7/dist-packages/seaborn/distributions.py:2619: FutureWarning: `distplot` is a deprecated function and will be removed in a future version. Please adapt your code to use either `displot` (a figure-level function with similar flexibility) or `kdeplot` (an axes-level function for kernel density plots).\n",
      "  warnings.warn(msg, FutureWarning)\n"
     ]
    },
    {
     "output_type": "execute_result",
     "data": {
      "text/plain": [
       "<matplotlib.axes._subplots.AxesSubplot at 0x7f10c7ead4d0>"
      ]
     },
     "metadata": {},
     "execution_count": 18
    },
    {
     "output_type": "display_data",
     "data": {
      "text/plain": [
       "<Figure size 432x288 with 1 Axes>"
      ],
      "image/png": "[encoded data removed]"
     },
     "metadata": {
      "needs_background": "light"
     }
    }
   ]
  },
  {
   "cell_type": "code",
   "source": [
    "#densidade e histograma\n",
    "srn.distplot(dados.iloc[:,1], hist=True, kde=True, bins=6, color='blue',\n",
    "            hist_kws={'edgecolor':'black'})"
   ],
   "metadata": {
    "id": "LdvW7NaNaOgf"
   },
   "execution_count": null,
   "outputs": []
  },
  {
   "cell_type": "markdown",
   "source": [
    "#Gráficos de Dispersão"
   ],
   "metadata": {
    "id": "v8UlK7zqaYAT"
   }
  },
  {
   "cell_type": "code",
   "source": [
    "#Carregando dados\n",
    "dados = pd.read_csv('trees.csv')\n",
    "dados.head()"
   ],
   "metadata": {
    "id": "Bt8bcYAeab4B"
   },
   "execution_count": null,
   "outputs": []
  },
  {
   "cell_type": "code",
   "source": [
    "#Gráfico de dispersão considerando o volume e a dispersão\n",
    "plt.scatter(dados.Girth, dados.Volume, color = 'blue', facecolors='none', marker='*')\n",
    "plt.title('Árvores')\n",
    "plt.xlabel('Volume')\n",
    "plt.ylabel('Circunferência')"
   ],
   "metadata": {
    "colab": {
     "base_uri": "https://localhost:8080/",
     "height": 312
    },
    "id": "90QS3VY9aqR1",
    "outputId": "5e16f879-9c51-4686-8b43-65607557ffa9"
   },
   "execution_count": null,
   "outputs": [
    {
     "output_type": "execute_result",
     "data": {
      "text/plain": [
       "Text(0, 0.5, 'Circunferência')"
      ]
     },
     "metadata": {},
     "execution_count": 21
    },
    {
     "output_type": "display_data",
     "data": {
      "text/plain": [
       "<Figure size 432x288 with 1 Axes>"
      ],
      "image/png": "[encoded data removed]"
     },
     "metadata": {
      "needs_background": "light"
     }
    }
   ]
  },
  {
   "cell_type": "code",
   "source": [
    "#Gráfico de linha considerando o volume e o atributo \"girth\"\n",
    "plt.plot(dados.Girth, dados.Volume)\n",
    "plt.title('Árvores')\n",
    "plt.xlabel('Volume')\n",
    "plt.ylabel('Circunferência')"
   ],
   "metadata": {
    "colab": {
     "base_uri": "https://localhost:8080/",
     "height": 312
    },
    "id": "InObNCk7b8WP",
    "outputId": "3a0e7dad-6e8c-40f7-d211-7775a84aa7b7"
   },
   "execution_count": null,
   "outputs": [
    {
     "output_type": "execute_result",
     "data": {
      "text/plain": [
       "Text(0, 0.5, 'Circunferência')"
      ]
     },
     "metadata": {},
     "execution_count": 23
    },
    {
     "output_type": "display_data",
     "data": {
      "text/plain": [
       "<Figure size 432x288 with 1 Axes>"
      ],
      "image/png": "[encoded data removed]"
     },
     "metadata": {
      "needs_background": "light"
     }
    }
   ]
  },
  {
   "cell_type": "code",
   "source": [
    "#Gráfico de dispersão com 'afastamento' dos dados (jitter)\n",
    "#fit_reg linha de tendência\n",
    "srn.regplot(dados.Girth, dados.Volume, data = dados, x_jitter=0.3, fit_reg=False)"
   ],
   "metadata": {
    "colab": {
     "base_uri": "https://localhost:8080/",
     "height": 354
    },
    "id": "YbEb76robLPx",
    "outputId": "3bfb550a-d02e-4eb2-fa24-94abd82e30e0"
   },
   "execution_count": null,
   "outputs": [
    {
     "output_type": "stream",
     "name": "stderr",
     "text": [
      "/usr/local/lib/python3.7/dist-packages/seaborn/_decorators.py:43: FutureWarning: Pass the following variables as keyword args: x, y. From version 0.12, the only valid positional argument will be `data`, and passing other arguments without an explicit keyword will result in an error or misinterpretation.\n",
      "  FutureWarning\n"
     ]
    },
    {
     "output_type": "execute_result",
     "data": {
      "text/plain": [
       "<matplotlib.axes._subplots.AxesSubplot at 0x7f10c5b91990>"
      ]
     },
     "metadata": {},
     "execution_count": 25
    },
    {
     "output_type": "display_data",
     "data": {
      "text/plain": [
       "<Figure size 432x288 with 1 Axes>"
      ],
      "image/png": "[encoded data removed]"
     },
     "metadata": {
      "needs_background": "light"
     }
    }
   ]
  },
  {
   "cell_type": "code",
   "source": [
    "#Com linha de tendência\n",
    "srn.regplot(dados.Girth, dados.Volume, data = dados, x_jitter=0.3, fit_reg=True)"
   ],
   "metadata": {
    "id": "_TbXZqvNch2c"
   },
   "execution_count": null,
   "outputs": []
  },
  {
   "cell_type": "markdown",
   "source": [
    "#Gráficos de Dispersão com Legendas"
   ],
   "metadata": {
    "id": "OTkvXRapcpDj"
   }
  },
  {
   "cell_type": "code",
   "source": [
    "#Carregando dados\n",
    "dados = pd.read_csv('co2.csv')\n",
    "dados.head()"
   ],
   "metadata": {
    "id": "CzCjKlFSctff"
   },
   "execution_count": null,
   "outputs": []
  },
  {
   "cell_type": "code",
   "source": [
    "#Criando duas variáveis para cada atributo (x = conc e y = uptake)\n",
    "x = dados.conc\n",
    "y = dados.uptake"
   ],
   "metadata": {
    "id": "iDkCE-zXc8QQ"
   },
   "execution_count": null,
   "outputs": []
  },
  {
   "cell_type": "code",
   "source": [
    "#Retorna os valores únicos do atributo \"treatment\"\n",
    "unicos = list(set(dados.Treatment))\n",
    "unicos"
   ],
   "metadata": {
    "colab": {
     "base_uri": "https://localhost:8080/"
    },
    "id": "vuAiezm0dHle",
    "outputId": "e42618a7-36e7-4d27-c998-0db6319102ff"
   },
   "execution_count": null,
   "outputs": [
    {
     "output_type": "execute_result",
     "data": {
      "text/plain": [
       "['chilled', 'nonchilled']"
      ]
     },
     "metadata": {},
     "execution_count": 30
    }
   ]
  },
  {
   "cell_type": "code",
   "source": [
    "#Perecorre cada tipo de tratamento (chilled e nonchilled) e cria um gráfico de dispersão\n",
    "for i in range(len(unicos)):\n",
    "  indice = dados.Treatment == unicos[i]\n",
    "  plt.scatter(x[indice], y[indice], label=unicos[i])\n",
    "plt.legend(loc='lower right')"
   ],
   "metadata": {
    "id": "HAE4QNXIdZlK"
   },
   "execution_count": null,
   "outputs": []
  },
  {
   "cell_type": "markdown",
   "source": [
    "#Divisão da Tela"
   ],
   "metadata": {
    "id": "kPxNYYfaeZLJ"
   }
  },
  {
   "cell_type": "code",
   "source": [
    "#Carregando dados\n",
    "dados = pd.read_csv('trees.csv')\n",
    "dados.head()"
   ],
   "metadata": {
    "id": "X-WE__HAebI-"
   },
   "execution_count": null,
   "outputs": []
  },
  {
   "cell_type": "code",
   "source": [
    "#girth com volume\n",
    "plt.scatter(dados.Girth, dados.Volume)"
   ],
   "metadata": {
    "id": "5vx-kUaQeiy0"
   },
   "execution_count": null,
   "outputs": []
  },
  {
   "cell_type": "code",
   "source": [
    "# girth com heigth\n",
    "plt.scatter(dados.Girth, dados.Height)"
   ],
   "metadata": {
    "colab": {
     "base_uri": "https://localhost:8080/",
     "height": 282
    },
    "id": "QymOBuC3epw4",
    "outputId": "77a19058-c068-4449-ed86-9b5db7316f25"
   },
   "execution_count": 6,
   "outputs": [
    {
     "output_type": "execute_result",
     "data": {
      "text/plain": [
       "<matplotlib.collections.PathCollection at 0x7f8c55745650>"
      ]
     },
     "metadata": {},
     "execution_count": 6
    },
    {
     "output_type": "display_data",
     "data": {
      "text/plain": [
       "<Figure size 432x288 with 1 Axes>"
      ],
      "image/png": "[encoded data removed]"
     },
     "metadata": {
      "needs_background": "light"
     }
    }
   ]
  },
  {
   "cell_type": "code",
   "source": [
    "# heigth com volume\n",
    "plt.scatter(dados.Height, dados.Volume, marker = '*')"
   ],
   "metadata": {
    "colab": {
     "base_uri": "https://localhost:8080/",
     "height": 285
    },
    "id": "XgQWw2bzevQA",
    "outputId": "3a83126e-03c2-4498-de17-e960c61f1de3"
   },
   "execution_count": 7,
   "outputs": [
    {
     "output_type": "execute_result",
     "data": {
      "text/plain": [
       "<matplotlib.collections.PathCollection at 0x7f8c55257e50>"
      ]
     },
     "metadata": {},
     "execution_count": 7
    },
    {
     "output_type": "display_data",
     "data": {
      "text/plain": [
       "<Figure size 432x288 with 1 Axes>"
      ],
      "image/png": "[encoded data removed]"
     },
     "metadata": {
      "needs_background": "light"
     }
    }
   ]
  },
  {
   "cell_type": "code",
   "source": [
    "#histograma com volume\n",
    "plt.hist(dados.Volume)"
   ],
   "metadata": {
    "colab": {
     "base_uri": "https://localhost:8080/",
     "height": 334
    },
    "id": "Vc9R4k-Le579",
    "outputId": "81aff3d2-c97a-4ff1-ecf6-0d6812a0338b"
   },
   "execution_count": 8,
   "outputs": [
    {
     "output_type": "execute_result",
     "data": {
      "text/plain": [
       "(array([ 5., 10.,  4.,  4.,  2.,  0.,  4.,  1.,  0.,  1.]),\n",
       " array([10.2 , 16.88, 23.56, 30.24, 36.92, 43.6 , 50.28, 56.96, 63.64,\n",
       "        70.32, 77.  ]),\n",
       " <a list of 10 Patch objects>)"
      ]
     },
     "metadata": {},
     "execution_count": 8
    },
    {
     "output_type": "display_data",
     "data": {
      "text/plain": [
       "<Figure size 432x288 with 1 Axes>"
      ],
      "image/png": "[encoded data removed]"
     },
     "metadata": {
      "needs_background": "light"
     }
    }
   ]
  },
  {
   "cell_type": "code",
   "source": [
    "#imprimindo juntos\n",
    "#Criação de figura, no qual os gráficos serão postcionados\n",
    "plt.figure(1)\n",
    "plt.subplot(2,2,1)\n",
    "plt.scatter(dados.Girth, dados.Volume)\n",
    "plt.subplot(2,2,2)\n",
    "plt.scatter(dados.Girth, dados. Height)\n",
    "plt.subplot(2,2,3)\n",
    "plt.scatter(dados.Height, dados. Volume, marker='*')\n",
    "plt.subplot(2,2,4)\n",
    "plt.hist(dados.Volume)"
   ],
   "metadata": {
    "colab": {
     "base_uri": "https://localhost:8080/",
     "height": 338
    },
    "id": "bWHCy1nYfEVj",
    "outputId": "cb4d86bb-21cc-4aa4-dadf-b72f4d10bd75"
   },
   "execution_count": 9,
   "outputs": [
    {
     "output_type": "execute_result",
     "data": {
      "text/plain": [
       "(array([ 5., 10.,  4.,  4.,  2.,  0.,  4.,  1.,  0.,  1.]),\n",
       " array([10.2 , 16.88, 23.56, 30.24, 36.92, 43.6 , 50.28, 56.96, 63.64,\n",
       "        70.32, 77.  ]),\n",
       " <a list of 10 Patch objects>)"
      ]
     },
     "metadata": {},
     "execution_count": 9
    },
    {
     "output_type": "display_data",
     "data": {
      "text/plain": [
       "<Figure size 432x288 with 4 Axes>"
      ],
      "image/png": "[encoded data removed]"
     },
     "metadata": {
      "needs_background": "light"
     }
    }
   ]
  },
  {
   "cell_type": "markdown",
   "source": [
    "#Boxplot"
   ],
   "metadata": {
    "id": "Xyray7aeZx0X"
   }
  },
  {
   "cell_type": "code",
   "source": [
    "#Carregando dados\n",
    "dados = pd.read_csv('trees.csv')\n",
    "dados.head()"
   ],
   "metadata": {
    "id": "-gkIMy2OZzPM"
   },
   "execution_count": null,
   "outputs": []
  },
  {
   "cell_type": "code",
   "source": [
    "#Gerando boxplot\n",
    "#patch_artist = True preencher, showfliers outliers\n",
    "plt.boxplot(dados.Volume, vert=False, showfliers=True, notch=True, patch_artist=True)\n",
    "plt.title(\"Árvores\")\n",
    "plt.xlabel(\"Volume\")"
   ],
   "metadata": {
    "colab": {
     "base_uri": "https://localhost:8080/",
     "height": 312
    },
    "id": "J4o-asYqaq9g",
    "outputId": "6ec9ff9e-91d7-408c-fb7c-0bf457331103"
   },
   "execution_count": 12,
   "outputs": [
    {
     "output_type": "execute_result",
     "data": {
      "text/plain": [
       "Text(0.5, 0, 'Volume')"
      ]
     },
     "metadata": {},
     "execution_count": 12
    },
    {
     "output_type": "display_data",
     "data": {
      "text/plain": [
       "<Figure size 432x288 with 1 Axes>"
      ],
      "image/png": "[encoded data removed]"
     },
     "metadata": {
      "needs_background": "light"
     }
    }
   ]
  },
  {
   "cell_type": "code",
   "source": [
    "#Dados por linha\n",
    "plt.boxplot(dados)\n",
    "plt.title(\"Árvores\")\n",
    "plt.xlabel(\"Volume\")"
   ],
   "metadata": {
    "colab": {
     "base_uri": "https://localhost:8080/",
     "height": 312
    },
    "id": "V0yF0Tj9bLCM",
    "outputId": "9750de5e-6dab-4409-da5b-f5f342233965"
   },
   "execution_count": 16,
   "outputs": [
    {
     "output_type": "execute_result",
     "data": {
      "text/plain": [
       "Text(0.5, 0, 'Volume')"
      ]
     },
     "metadata": {},
     "execution_count": 16
    },
    {
     "output_type": "display_data",
     "data": {
      "text/plain": [
       "<Figure size 432x288 with 1 Axes>"
      ],
      "image/png": "[encoded data removed]"
     },
     "metadata": {
      "needs_background": "light"
     }
    }
   ]
  },
  {
   "cell_type": "code",
   "source": [
    "#Gerando 3 boxplots, cada um mostrando informações diferentes\n",
    "plt.boxplot(dados.Volume, vert=True)\n",
    "plt.boxplot(dados.Girth, vert=True)\n",
    "plt.boxplot(dados.Height, vert=True)\n",
    "plt.title(\"Árvores\")\n",
    "plt.xlabel(\"Volume\")"
   ],
   "metadata": {
    "colab": {
     "base_uri": "https://localhost:8080/",
     "height": 312
    },
    "id": "VneIRWJAbTOG",
    "outputId": "b2300b94-495c-48cc-c673-d61dbacbaad9"
   },
   "execution_count": 20,
   "outputs": [
    {
     "output_type": "execute_result",
     "data": {
      "text/plain": [
       "Text(0.5, 0, 'Volume')"
      ]
     },
     "metadata": {},
     "execution_count": 20
    },
    {
     "output_type": "display_data",
     "data": {
      "text/plain": [
       "<Figure size 432x288 with 1 Axes>"
      ],
      "image/png": "[encoded data removed]"
     },
     "metadata": {
      "needs_background": "light"
     }
    }
   ]
  },
  {
   "cell_type": "markdown",
   "source": [
    "#Gráfico de Barras e de Setores"
   ],
   "metadata": {
    "id": "XYWrxhDpcsBN"
   }
  },
  {
   "cell_type": "code",
   "source": [
    "#Carregando dados\n",
    "dados = pd.read_csv('insect.csv')\n",
    "dados.shape"
   ],
   "metadata": {
    "colab": {
     "base_uri": "https://localhost:8080/"
    },
    "id": "9nE4mqlvcw9i",
    "outputId": "ab20a3bb-3c78-4e5a-e014-4da572b49bf3"
   },
   "execution_count": 22,
   "outputs": [
    {
     "output_type": "execute_result",
     "data": {
      "text/plain": [
       "(72, 2)"
      ]
     },
     "metadata": {},
     "execution_count": 22
    }
   ]
  },
  {
   "cell_type": "code",
   "source": [
    "dados.head()"
   ],
   "metadata": {
    "id": "hBTssMqNdCYU"
   },
   "execution_count": null,
   "outputs": []
  },
  {
   "cell_type": "code",
   "source": [
    "#Agrupamento dos dados baseados no atributo 'spray', contando e somando registros\n",
    "agrupado = dados.groupby(['spray'])['count'].sum()\n",
    "agrupado"
   ],
   "metadata": {
    "id": "32OF3NQ6dH4V"
   },
   "execution_count": null,
   "outputs": []
  },
  {
   "cell_type": "code",
   "source": [
    "#Gráfico de barras\n",
    "agrupado.plot.bar(color='gray')"
   ],
   "metadata": {
    "id": "8lpU2hj4dZtv"
   },
   "execution_count": null,
   "outputs": []
  },
  {
   "cell_type": "code",
   "source": [
    "#cores\n",
    "agrupado.plot.bar(color=['blue','yellow','red', 'green', 'pink','orange'])"
   ],
   "metadata": {
    "colab": {
     "base_uri": "https://localhost:8080/",
     "height": 294
    },
    "id": "lme4ooHadfZs",
    "outputId": "a023aabe-f73d-42ba-c044-fb2bc4889ef4"
   },
   "execution_count": 29,
   "outputs": [
    {
     "output_type": "execute_result",
     "data": {
      "text/plain": [
       "<matplotlib.axes._subplots.AxesSubplot at 0x7f8c522de410>"
      ]
     },
     "metadata": {},
     "execution_count": 29
    },
    {
     "output_type": "display_data",
     "data": {
      "text/plain": [
       "<Figure size 432x288 with 1 Axes>"
      ],
      "image/png": "[encoded data removed]"
     },
     "metadata": {
      "needs_background": "light"
     }
    }
   ]
  },
  {
   "cell_type": "code",
   "source": [
    "#Gráfico de pizza\n",
    "agrupado.plot.pie()"
   ],
   "metadata": {
    "colab": {
     "base_uri": "https://localhost:8080/",
     "height": 265
    },
    "id": "zvWKaFKmdrNl",
    "outputId": "2a0b8703-13da-4159-a9b9-acda0bddd4d5"
   },
   "execution_count": 30,
   "outputs": [
    {
     "output_type": "execute_result",
     "data": {
      "text/plain": [
       "<matplotlib.axes._subplots.AxesSubplot at 0x7f8c52252410>"
      ]
     },
     "metadata": {},
     "execution_count": 30
    },
    {
     "output_type": "display_data",
     "data": {
      "text/plain": [
       "<Figure size 432x288 with 1 Axes>"
      ],
      "image/png": "[encoded data removed]"
     },
     "metadata": {}
    }
   ]
  },
  {
   "cell_type": "code",
   "source": [
    "#Com legenda\n",
    "agrupado.plot.pie(legend=True)"
   ],
   "metadata": {
    "id": "fMAR4H5Vdv3h"
   },
   "execution_count": null,
   "outputs": []
  },
  {
   "cell_type": "markdown",
   "source": [
    "#Boxplot com Seaborn"
   ],
   "metadata": {
    "id": "_xgM3k-pebhC"
   }
  },
  {
   "cell_type": "code",
   "source": [
    "#Carregando dados\n",
    "dados = pd.read_csv('trees.csv')\n",
    "dados.head()"
   ],
   "metadata": {
    "id": "WKlYsdp1ee4-"
   },
   "execution_count": null,
   "outputs": []
  },
  {
   "cell_type": "code",
   "source": [
    "#Vizualizar boxplot\n",
    "srn.boxplot(dados.Volume).set_title('Árvores')"
   ],
   "metadata": {
    "colab": {
     "base_uri": "https://localhost:8080/",
     "height": 367
    },
    "id": "ymXfoYkQejEG",
    "outputId": "43ea4244-b384-4c9c-dbc6-33aea22a7dc2"
   },
   "execution_count": 35,
   "outputs": [
    {
     "output_type": "stream",
     "name": "stderr",
     "text": [
      "/usr/local/lib/python3.7/dist-packages/seaborn/_decorators.py:43: FutureWarning: Pass the following variable as a keyword arg: x. From version 0.12, the only valid positional argument will be `data`, and passing other arguments without an explicit keyword will result in an error or misinterpretation.\n",
      "  FutureWarning\n"
     ]
    },
    {
     "output_type": "execute_result",
     "data": {
      "text/plain": [
       "Text(0.5, 1.0, 'Árvores')"
      ]
     },
     "metadata": {},
     "execution_count": 35
    },
    {
     "output_type": "display_data",
     "data": {
      "text/plain": [
       "<Figure size 432x288 with 1 Axes>"
      ],
      "image/png": "[encoded data removed]"
     },
     "metadata": {
      "needs_background": "light"
     }
    }
   ]
  },
  {
   "cell_type": "code",
   "source": [
    "#Vizualizar vários boxplots na mesma imagem\n",
    "srn.boxplot(data=dados)"
   ],
   "metadata": {
    "colab": {
     "base_uri": "https://localhost:8080/",
     "height": 284
    },
    "id": "Z4YipqrWet9y",
    "outputId": "95a709b2-f2d4-4882-92b9-82a08c15bd93"
   },
   "execution_count": 36,
   "outputs": [
    {
     "output_type": "execute_result",
     "data": {
      "text/plain": [
       "<matplotlib.axes._subplots.AxesSubplot at 0x7f8c5215c110>"
      ]
     },
     "metadata": {},
     "execution_count": 36
    },
    {
     "output_type": "display_data",
     "data": {
      "text/plain": [
       "<Figure size 432x288 with 1 Axes>"
      ],
      "image/png": "[encoded data removed]"
     },
     "metadata": {
      "needs_background": "light"
     }
    }
   ]
  },
  {
   "cell_type": "markdown",
   "source": [
    "#Histogramas e Densidade com Seaborn"
   ],
   "metadata": {
    "id": "-gh62_y0flDa"
   }
  },
  {
   "cell_type": "code",
   "source": [
    "#Carregando dados\n",
    "dados = pd.read_csv('trees.csv')\n",
    "dados.head()"
   ],
   "metadata": {
    "id": "dWPq-eILfsrh"
   },
   "execution_count": null,
   "outputs": []
  },
  {
   "cell_type": "code",
   "source": [
    "#Histograma com 10 divisões(bins) e com gráfico de densidade\n",
    "srn.displot(base.Volume, bins=10, axlabel='Volume').set_title('Árvores')"
   ],
   "metadata": {
    "id": "sbCVVl1ofwkG"
   },
   "execution_count": null,
   "outputs": []
  },
  {
   "cell_type": "code",
   "source": [
    "#Carregamento de outra base de dados\n",
    "dados2 = pd.read_csv('chicken.csv')\n",
    "dados.head()"
   ],
   "metadata": {
    "id": "QdHcWyzRgANM"
   },
   "execution_count": null,
   "outputs": []
  },
  {
   "cell_type": "code",
   "source": [
    "#Criação de novo dataframe agrupado a atributo 'feed'\n",
    "agrupado = dados2.groupby(['feed'])['weight'].sum()\n",
    "agrupado"
   ],
   "metadata": {
    "id": "XHzdMsF7gMfs"
   },
   "execution_count": null,
   "outputs": []
  },
  {
   "cell_type": "code",
   "source": [
    "#Novo dataframe somente para testar os filtos do Pandas\n",
    "teste = dados2.loc[dados2['feed'] == 'horsebean']\n",
    "teste"
   ],
   "metadata": {
    "id": "twl3vFxtgc1Z"
   },
   "execution_count": null,
   "outputs": []
  }
 ]
}